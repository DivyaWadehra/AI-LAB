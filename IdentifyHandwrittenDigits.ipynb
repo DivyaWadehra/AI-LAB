{
  "nbformat": 4,
  "nbformat_minor": 0,
  "metadata": {
    "colab": {
      "name": "IdentifyHandwrittenDigits.ipynb",
      "provenance": [],
      "authorship_tag": "ABX9TyOyzpcr01bgT4v2fe8tYDLz",
      "include_colab_link": true
    },
    "kernelspec": {
      "name": "python3",
      "display_name": "Python 3"
    },
    "language_info": {
      "name": "python"
    }
  },
  "cells": [
    {
      "cell_type": "markdown",
      "metadata": {
        "id": "view-in-github",
        "colab_type": "text"
      },
      "source": [
        "<a href=\"https://colab.research.google.com/github/DivyaWadehra/AI-LAB/blob/master/IdentifyHandwrittenDigits.ipynb\" target=\"_parent\"><img src=\"https://colab.research.google.com/assets/colab-badge.svg\" alt=\"Open In Colab\"/></a>"
      ]
    },
    {
      "cell_type": "code",
      "metadata": {
        "id": "lMQ6A4zPLW-J"
      },
      "source": [
        "#Predict binary output from a set of independent variables, will use logistic regression pytorch"
      ],
      "execution_count": 1,
      "outputs": []
    },
    {
      "cell_type": "code",
      "metadata": {
        "id": "5CrC-vcOOtPC"
      },
      "source": [
        "#import libraries\n",
        "import torch\n",
        "import torch.nn as nn\n",
        "import torchvision.datasets as dsets\n",
        "import torchvision.transforms as transforms\n",
        "from torch.autograd import Variable"
      ],
      "execution_count": 2,
      "outputs": []
    },
    {
      "cell_type": "code",
      "metadata": {
        "id": "9CQcZy4ZPMdf"
      },
      "source": [
        "#Mnist Dataset\n",
        "#nn module contains the code required for the model\n",
        "#transform module contains various methods to transform objects to others (Images to pytorch tensors)\n",
        "#Vairable class to be used for defining tensors\n",
        "\n",
        "train_dataset=dsets.MNIST(root='./data',train=True,transform=transforms.ToTensor(),download=True)\n",
        "test_dataset=dsets.MNIST(root='./data',train=False,transform=transforms.ToTensor())\n",
        "\n",
        "#Hyperparameters\n",
        "input_size=784\n",
        "num_classes=10\n",
        "num_epochs=5\n",
        "batch_size=100\n",
        "learning_rate=0.001\n",
        "\n",
        "#Input Pipeline (Dataset Loader)\n",
        "train_loader=torch.utils.data.DataLoader(dataset=train_dataset,batch_size=batch_size,shuffle=True)\n",
        "test_loader=torch.utils.data.DataLoader(dataset=test_dataset,batch_size=batch_size,shuffle=False)\n",
        "\n",
        "#Hyperparameters\n",
        "input_size=784\n",
        "num_classes=10\n",
        "num_epochs=5\n",
        "batch_size=100\n",
        "learning_rate=0.001\n",
        "\n",
        "#Image size is 28*28\n",
        "#output size=784\n",
        "\n",
        "#Define model\n",
        "\n",
        "class LogisticRegression(nn.Module):\n",
        "  def __init__(self,input_size,num_classes):\n",
        "    super(LogisticRegression,self).__init__()\n",
        "    self.linear=nn.Linear(input_size,num_classes)\n",
        "  def forward(self,x):\n",
        "    out=self.linear(x)\n",
        "    return out\n",
        "\n",
        "model=LogisticRegression(input_size,num_classes)\n",
        "criterion=nn.CrossEntropyLoss()\n",
        "optimizer=torch.optim.SGD(model.parameters(),lr=learning_rate)\n",
        "\n"
      ],
      "execution_count": 3,
      "outputs": []
    },
    {
      "cell_type": "code",
      "metadata": {
        "id": "q2sjzlvgTKKk"
      },
      "source": [
        "#Training steps\n",
        "#1. Reset all gradients to 0\n",
        "#2. Make a forward pass\n",
        "#3. Calculate the loss\n",
        "#4. Perform backpropagation\n",
        "#5. Update all weights"
      ],
      "execution_count": 4,
      "outputs": []
    },
    {
      "cell_type": "code",
      "metadata": {
        "colab": {
          "base_uri": "https://localhost:8080/"
        },
        "id": "UovTBhReThGT",
        "outputId": "fdab140a-81f4-42b9-ece5-907c41d67735"
      },
      "source": [
        "#trainig\n",
        "for epoch in range(num_epochs):\n",
        "  for i,(images,labels) in enumerate(train_loader):\n",
        "    images=Variable(images.view(-1,28*28))\n",
        "    labels=Variable(labels)\n",
        "\n",
        "    #Forward+backward+Optimize\n",
        "    optimizer.zero_grad()\n",
        "    outputs=model(images)\n",
        "    loss=criterion(outputs,labels)\n",
        "    loss.backward()\n",
        "    optimizer.step()\n",
        "\n",
        "    if (i + 1) % 100 == 0:\n",
        "            print('Epoch: [% d/% d], Step: [% d/% d], Loss: %.4f'\n",
        "                  % (epoch + 1, num_epochs, i + 1,\n",
        "                     len(train_dataset) // batch_size, loss.data))"
      ],
      "execution_count": 7,
      "outputs": [
        {
          "output_type": "stream",
          "text": [
            "Epoch: [ 1/ 5], Step: [ 100/ 600], Loss: 1.9868\n",
            "Epoch: [ 1/ 5], Step: [ 200/ 600], Loss: 1.9503\n",
            "Epoch: [ 1/ 5], Step: [ 300/ 600], Loss: 1.8154\n",
            "Epoch: [ 1/ 5], Step: [ 400/ 600], Loss: 1.7961\n",
            "Epoch: [ 1/ 5], Step: [ 500/ 600], Loss: 1.7103\n",
            "Epoch: [ 1/ 5], Step: [ 600/ 600], Loss: 1.6921\n",
            "Epoch: [ 2/ 5], Step: [ 100/ 600], Loss: 1.6290\n",
            "Epoch: [ 2/ 5], Step: [ 200/ 600], Loss: 1.5285\n",
            "Epoch: [ 2/ 5], Step: [ 300/ 600], Loss: 1.5334\n",
            "Epoch: [ 2/ 5], Step: [ 400/ 600], Loss: 1.4901\n",
            "Epoch: [ 2/ 5], Step: [ 500/ 600], Loss: 1.4403\n",
            "Epoch: [ 2/ 5], Step: [ 600/ 600], Loss: 1.3797\n",
            "Epoch: [ 3/ 5], Step: [ 100/ 600], Loss: 1.3151\n",
            "Epoch: [ 3/ 5], Step: [ 200/ 600], Loss: 1.2684\n",
            "Epoch: [ 3/ 5], Step: [ 300/ 600], Loss: 1.3278\n",
            "Epoch: [ 3/ 5], Step: [ 400/ 600], Loss: 1.2884\n",
            "Epoch: [ 3/ 5], Step: [ 500/ 600], Loss: 1.1790\n",
            "Epoch: [ 3/ 5], Step: [ 600/ 600], Loss: 1.1916\n",
            "Epoch: [ 4/ 5], Step: [ 100/ 600], Loss: 1.2101\n",
            "Epoch: [ 4/ 5], Step: [ 200/ 600], Loss: 1.1892\n",
            "Epoch: [ 4/ 5], Step: [ 300/ 600], Loss: 1.1426\n",
            "Epoch: [ 4/ 5], Step: [ 400/ 600], Loss: 1.0320\n",
            "Epoch: [ 4/ 5], Step: [ 500/ 600], Loss: 1.0383\n",
            "Epoch: [ 4/ 5], Step: [ 600/ 600], Loss: 1.0756\n",
            "Epoch: [ 5/ 5], Step: [ 100/ 600], Loss: 1.0707\n",
            "Epoch: [ 5/ 5], Step: [ 200/ 600], Loss: 0.9724\n",
            "Epoch: [ 5/ 5], Step: [ 300/ 600], Loss: 1.0374\n",
            "Epoch: [ 5/ 5], Step: [ 400/ 600], Loss: 1.0398\n",
            "Epoch: [ 5/ 5], Step: [ 500/ 600], Loss: 0.9384\n",
            "Epoch: [ 5/ 5], Step: [ 600/ 600], Loss: 0.9498\n"
          ],
          "name": "stdout"
        }
      ]
    },
    {
      "cell_type": "code",
      "metadata": {
        "id": "2hefHOvoUlSg"
      },
      "source": [
        "#Test the model\n"
      ],
      "execution_count": null,
      "outputs": []
    }
  ]
}
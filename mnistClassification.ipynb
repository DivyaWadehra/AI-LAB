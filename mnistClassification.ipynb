{
  "nbformat": 4,
  "nbformat_minor": 0,
  "metadata": {
    "colab": {
      "name": "mnistClassification.ipynb",
      "version": "0.3.2",
      "provenance": [],
      "include_colab_link": true
    },
    "kernelspec": {
      "name": "python3",
      "display_name": "Python 3"
    },
    "accelerator": "GPU"
  },
  "cells": [
    {
      "cell_type": "markdown",
      "metadata": {
        "id": "view-in-github",
        "colab_type": "text"
      },
      "source": [
        "<a href=\"https://colab.research.google.com/github/DivyaWadehra/AI-LAB/blob/master/mnistClassification.ipynb\" target=\"_parent\"><img src=\"https://colab.research.google.com/assets/colab-badge.svg\" alt=\"Open In Colab\"/></a>"
      ]
    },
    {
      "cell_type": "code",
      "metadata": {
        "id": "GEywZQLV7Br6",
        "colab_type": "code",
        "colab": {}
      },
      "source": [
        "import torch\n",
        "import torch.nn as nn\n",
        "import torchvision.transforms as transforms\n",
        "import torchvision.datasets as datasets"
      ],
      "execution_count": 0,
      "outputs": []
    },
    {
      "cell_type": "code",
      "metadata": {
        "id": "lWOC_wH__En2",
        "colab_type": "code",
        "colab": {}
      },
      "source": [
        "%rm -rf data"
      ],
      "execution_count": 0,
      "outputs": []
    },
    {
      "cell_type": "code",
      "metadata": {
        "id": "7nC9dYLP7R0E",
        "colab_type": "code",
        "colab": {}
      },
      "source": [
        "mean_gray=0.1307\n",
        "stddev_gray=0.3081\n",
        "#we need these values because we need to apply data normalization\n",
        "#In gray scale image we have only 1 channel, but in RGB we have 3 channels\n",
        "#input[channel]=(input[channel]-mean[channel])/std[channel]\n",
        "transforms=transforms.Compose([transforms.ToTensor(),\n",
        "                              transforms.Normalize((mean_gray,),(stddev_gray,))])\n",
        "#train_dataset=datasets.MNIST(root=\"./data\",train=True,transform=transforms,download=True)"
      ],
      "execution_count": 0,
      "outputs": []
    },
    {
      "cell_type": "code",
      "metadata": {
        "id": "6X1bzxSQ7cji",
        "colab_type": "code",
        "outputId": "d13a7776-f3fc-4a1a-992d-021b312fc1e2",
        "colab": {
          "base_uri": "https://localhost:8080/",
          "height": 275
        }
      },
      "source": [
        "train_dataset=datasets.MNIST(root=\"./data\",train=True,transform=transforms,download=True)"
      ],
      "execution_count": 25,
      "outputs": [
        {
          "output_type": "stream",
          "text": [
            "  0%|          | 16384/9912422 [00:00<01:24, 117272.93it/s]"
          ],
          "name": "stderr"
        },
        {
          "output_type": "stream",
          "text": [
            "Downloading http://yann.lecun.com/exdb/mnist/train-images-idx3-ubyte.gz to ./data/MNIST/raw/train-images-idx3-ubyte.gz\n"
          ],
          "name": "stdout"
        },
        {
          "output_type": "stream",
          "text": [
            "9920512it [00:00, 24149699.92it/s]                           \n"
          ],
          "name": "stderr"
        },
        {
          "output_type": "stream",
          "text": [
            "Extracting ./data/MNIST/raw/train-images-idx3-ubyte.gz\n"
          ],
          "name": "stdout"
        },
        {
          "output_type": "stream",
          "text": [
            "32768it [00:00, 330836.20it/s]\n",
            "0it [00:00, ?it/s]"
          ],
          "name": "stderr"
        },
        {
          "output_type": "stream",
          "text": [
            "Downloading http://yann.lecun.com/exdb/mnist/train-labels-idx1-ubyte.gz to ./data/MNIST/raw/train-labels-idx1-ubyte.gz\n",
            "Extracting ./data/MNIST/raw/train-labels-idx1-ubyte.gz\n",
            "Downloading http://yann.lecun.com/exdb/mnist/t10k-images-idx3-ubyte.gz to ./data/MNIST/raw/t10k-images-idx3-ubyte.gz\n"
          ],
          "name": "stdout"
        },
        {
          "output_type": "stream",
          "text": [
            "1654784it [00:00, 5307010.20it/s]                           \n",
            "8192it [00:00, 132198.60it/s]\n"
          ],
          "name": "stderr"
        },
        {
          "output_type": "stream",
          "text": [
            "Extracting ./data/MNIST/raw/t10k-images-idx3-ubyte.gz\n",
            "Downloading http://yann.lecun.com/exdb/mnist/t10k-labels-idx1-ubyte.gz to ./data/MNIST/raw/t10k-labels-idx1-ubyte.gz\n",
            "Extracting ./data/MNIST/raw/t10k-labels-idx1-ubyte.gz\n",
            "Processing...\n",
            "Done!\n"
          ],
          "name": "stdout"
        }
      ]
    },
    {
      "cell_type": "code",
      "metadata": {
        "id": "nWkFpH2i9ct0",
        "colab_type": "code",
        "outputId": "13e7d40f-165e-4309-9f30-992d5e267ef8",
        "colab": {
          "base_uri": "https://localhost:8080/",
          "height": 34
        }
      },
      "source": [
        "!ls"
      ],
      "execution_count": 26,
      "outputs": [
        {
          "output_type": "stream",
          "text": [
            "data  sample_data\n"
          ],
          "name": "stdout"
        }
      ]
    },
    {
      "cell_type": "code",
      "metadata": {
        "id": "IuY_2K4n9VVL",
        "colab_type": "code",
        "colab": {}
      },
      "source": [
        "test_dataset=datasets.MNIST(root=\"./data\",train=False,transform=transforms)"
      ],
      "execution_count": 0,
      "outputs": []
    },
    {
      "cell_type": "code",
      "metadata": {
        "id": "XNKV72bz9gkI",
        "colab_type": "code",
        "outputId": "393da122-85f8-4601-e21a-8d8ce9990e22",
        "colab": {
          "base_uri": "https://localhost:8080/",
          "height": 85
        }
      },
      "source": [
        "test_dataset"
      ],
      "execution_count": 28,
      "outputs": [
        {
          "output_type": "execute_result",
          "data": {
            "text/plain": [
              "Dataset MNIST\n",
              "    Number of datapoints: 10000\n",
              "    Root location: ./data\n",
              "    Split: Test"
            ]
          },
          "metadata": {
            "tags": []
          },
          "execution_count": 28
        }
      ]
    },
    {
      "cell_type": "code",
      "metadata": {
        "id": "12L6p-bK9jAX",
        "colab_type": "code",
        "outputId": "88aaa7a0-ffd9-47cb-c8e2-f79c03746237",
        "colab": {
          "base_uri": "https://localhost:8080/",
          "height": 34
        }
      },
      "source": [
        "!ls data/MNIST"
      ],
      "execution_count": 29,
      "outputs": [
        {
          "output_type": "stream",
          "text": [
            "processed  raw\n"
          ],
          "name": "stdout"
        }
      ]
    },
    {
      "cell_type": "code",
      "metadata": {
        "id": "ABeNEmPt9oo8",
        "colab_type": "code",
        "outputId": "7717f139-7f51-4694-bb49-04311f412f4d",
        "colab": {
          "base_uri": "https://localhost:8080/",
          "height": 286
        }
      },
      "source": [
        "import matplotlib.pyplot as plt\n",
        "random_img=train_dataset[20][0].numpy()*stddev_gray+mean_gray\n",
        "plt.imshow(random_img.reshape(28,28),cmap='gray')"
      ],
      "execution_count": 30,
      "outputs": [
        {
          "output_type": "execute_result",
          "data": {
            "text/plain": [
              "<matplotlib.image.AxesImage at 0x7f9ed1f1cbe0>"
            ]
          },
          "metadata": {
            "tags": []
          },
          "execution_count": 30
        },
        {
          "output_type": "display_data",
          "data": {
            "image/png": "[encoded data removed]",
            "text/plain": [
              "<Figure size 432x288 with 1 Axes>"
            ]
          },
          "metadata": {
            "tags": []
          }
        }
      ]
    },
    {
      "cell_type": "code",
      "metadata": {
        "id": "_Sbd8gCe-Idf",
        "colab_type": "code",
        "outputId": "b36ada43-52c0-44f9-dbc2-90aa64374ff7",
        "colab": {
          "base_uri": "https://localhost:8080/",
          "height": 34
        }
      },
      "source": [
        "train_dataset[20][1]"
      ],
      "execution_count": 31,
      "outputs": [
        {
          "output_type": "execute_result",
          "data": {
            "text/plain": [
              "4"
            ]
          },
          "metadata": {
            "tags": []
          },
          "execution_count": 31
        }
      ]
    },
    {
      "cell_type": "code",
      "metadata": {
        "id": "bA0VPQFX_cHl",
        "colab_type": "code",
        "colab": {}
      },
      "source": [
        "batch_size=100\n",
        "train_load=torch.utils.data.DataLoader(dataset=train_dataset,batch_size=batch_size,shuffle=True)\n",
        "test_load=torch.utils.data.DataLoader(dataset=test_dataset,batch_size=batch_size,shuffle=False)"
      ],
      "execution_count": 0,
      "outputs": []
    },
    {
      "cell_type": "code",
      "metadata": {
        "id": "N9SM3NIkACi_",
        "colab_type": "code",
        "outputId": "21791651-95ae-4233-dd3a-f824b8861b8d",
        "colab": {
          "base_uri": "https://localhost:8080/",
          "height": 34
        }
      },
      "source": [
        "len(train_dataset)"
      ],
      "execution_count": 33,
      "outputs": [
        {
          "output_type": "execute_result",
          "data": {
            "text/plain": [
              "60000"
            ]
          },
          "metadata": {
            "tags": []
          },
          "execution_count": 33
        }
      ]
    },
    {
      "cell_type": "code",
      "metadata": {
        "id": "4LUFaehfAFBO",
        "colab_type": "code",
        "outputId": "a6824e16-f08a-4dec-e374-c99646ed7d47",
        "colab": {
          "base_uri": "https://localhost:8080/",
          "height": 34
        }
      },
      "source": [
        "len(test_dataset)"
      ],
      "execution_count": 34,
      "outputs": [
        {
          "output_type": "execute_result",
          "data": {
            "text/plain": [
              "10000"
            ]
          },
          "metadata": {
            "tags": []
          },
          "execution_count": 34
        }
      ]
    },
    {
      "cell_type": "code",
      "metadata": {
        "id": "wXLA4UzfALai",
        "colab_type": "code",
        "outputId": "ad112a8e-0a0e-4acf-941d-72528584789a",
        "colab": {
          "base_uri": "https://localhost:8080/",
          "height": 34
        }
      },
      "source": [
        "len(train_load)\n",
        "#this means each batch size is 100"
      ],
      "execution_count": 35,
      "outputs": [
        {
          "output_type": "execute_result",
          "data": {
            "text/plain": [
              "600"
            ]
          },
          "metadata": {
            "tags": []
          },
          "execution_count": 35
        }
      ]
    },
    {
      "cell_type": "code",
      "metadata": {
        "id": "1ZIzihyBANkH",
        "colab_type": "code",
        "colab": {}
      },
      "source": [
        "class CNN(nn.Module):\n",
        "  def __init__(self):\n",
        "    super(CNN,self).__init__()\n",
        "    #same Padding=(filter_size-1)/2\n",
        "    #same Padding=>inputsize=output_size=> (3-1)/2=1\n",
        "    \n",
        "    self.cnn1=nn.Conv2d(in_channels=1,out_channels=8,kernel_size=3,stride=1,padding=1)\n",
        "    #output size of each of the 8 fetaure maps:\n",
        "    #[(input_size-filter_size+2(padding))/stride+1]=>(28-3+2)/1+1=>28\n",
        "    self.batchnorm1=nn.BatchNorm2d(8)\n",
        "    self.relu=nn.ReLU()\n",
        "    self.maxpool=nn.MaxPool2d(kernel_size=2)\n",
        "    #output_size=28/2=14\n",
        "    #Paading=>(5-1)/2=2\n",
        "    self.cnn2=nn.Conv2d(in_channels=8,out_channels=32,kernel_size=5,stride=1,padding=2)\n",
        "    #output Size of each of the 32 feature maps[(14-5+2(2))/1+1]=14\n",
        "    self.batchnorm2=nn.BatchNorm2d(32)\n",
        "    #Flatten the 32 feature maps , each filter size is 7*7=>7*7*32=1568\n",
        "    self.fc1=nn.Linear(1568,600)\n",
        "    self.dropout=nn.Dropout(p=0.5)\n",
        "    self.fc2=nn.Linear(600,10)\n",
        "    \n",
        "  def forward(self,x):\n",
        "    out=self.cnn1(x)\n",
        "    out=self.batchnorm1(out)\n",
        "    out=self.relu(out)\n",
        "    out=self.maxpool(out)\n",
        "    out=self.cnn2(out)\n",
        "    out=self.batchnorm2(out)\n",
        "    out=self.relu(out)\n",
        "    out=self.maxpool(out)\n",
        "    #batch_size=100,if -1 pytorch will figure out itself\n",
        "    out=out.view(-1,1568)\n",
        "    \n",
        "    out=self.fc1(out)\n",
        "    out=self.relu(out)\n",
        "    out=self.dropout(out)\n",
        "    out=self.fc2(out)\n",
        "    return out"
      ],
      "execution_count": 0,
      "outputs": []
    },
    {
      "cell_type": "code",
      "metadata": {
        "id": "I_1oOtZOGucq",
        "colab_type": "code",
        "colab": {}
      },
      "source": [
        "model=CNN()\n",
        "CUDA=torch.cuda.is_available()\n",
        "if CUDA:\n",
        "  model=model.cuda()\n",
        "loss_fn=nn.CrossEntropyLoss() \n",
        "optimizer=torch.optim.Adam(model.parameters(),lr=0.01)  "
      ],
      "execution_count": 0,
      "outputs": []
    },
    {
      "cell_type": "code",
      "metadata": {
        "id": "iS6aI6hYHBef",
        "colab_type": "code",
        "outputId": "ddfc14dc-a307-4641-918f-4b3a55a8b2fc",
        "colab": {
          "base_uri": "https://localhost:8080/",
          "height": 204
        }
      },
      "source": [
        "iteration=0\n",
        "correct=0\n",
        "for i,(inputs,labels) in enumerate(train_load):\n",
        "  if CUDA:\n",
        "    inputs=inputs.cuda()\n",
        "    labels=labels.cuda()\n",
        "  print(\"for onre iteration \")\n",
        "  print(\"Input shape\",inputs.shape)\n",
        "  print(\"labels shape\",labels.shape)\n",
        "  output=model(inputs)\n",
        "  print(\"output shape\",output.shape)\n",
        "  _,predicted=torch.max(output,1)\n",
        "  print(\"predicted shape\",predicted.shape)\n",
        "  print(\"Predicted tensor\")\n",
        "  print(predicted)\n",
        "  correct+=(predicted==labels).sum()\n",
        "  break\n",
        "  "
      ],
      "execution_count": 38,
      "outputs": [
        {
          "output_type": "stream",
          "text": [
            "for onre iteration \n",
            "Input shape torch.Size([100, 1, 28, 28])\n",
            "labels shape torch.Size([100])\n",
            "output shape torch.Size([100, 10])\n",
            "predicted shape torch.Size([100])\n",
            "Predicted tensor\n",
            "tensor([1, 6, 3, 8, 3, 8, 3, 6, 0, 1, 5, 3, 6, 5, 3, 3, 1, 8, 3, 5, 3, 4, 2, 0,\n",
            "        9, 1, 3, 5, 3, 7, 3, 9, 6, 5, 8, 3, 3, 3, 3, 5, 6, 3, 5, 3, 3, 3, 3, 7,\n",
            "        3, 5, 3, 6, 7, 3, 3, 4, 8, 5, 3, 3, 5, 3, 7, 3, 6, 5, 3, 7, 9, 3, 3, 3,\n",
            "        3, 5, 3, 6, 3, 3, 9, 5, 3, 3, 3, 6, 3, 4, 5, 3, 3, 3, 9, 7, 4, 7, 3, 6,\n",
            "        3, 5, 4, 3], device='cuda:0')\n"
          ],
          "name": "stdout"
        }
      ]
    },
    {
      "cell_type": "code",
      "metadata": {
        "id": "0SfknbdxIUE6",
        "colab_type": "code",
        "outputId": "af558937-318f-48b3-ff1c-d05829d8aaab",
        "colab": {
          "base_uri": "https://localhost:8080/",
          "height": 187
        }
      },
      "source": [
        "num_epochs=10\n",
        "train_loss=[]\n",
        "train_accuracy=[]\n",
        "test_loss=[]\n",
        "test_accuracy=[]\n",
        "for epoch in range(num_epochs):\n",
        "  correct=0\n",
        "  iterations=0\n",
        "  iter_loss=0.0\n",
        "  model.train()\n",
        "  for i,(inputs,labels) in enumerate (train_load):\n",
        "    if CUDA:\n",
        "      inputs=inputs.cuda()\n",
        "      labels=labels.cuda()\n",
        "    outputs=model(inputs)\n",
        "    loss=loss_fn(outputs,labels)\n",
        "    iter_loss+=loss.item()\n",
        "    optimizer.zero_grad()\n",
        "    #clearing gradient from previous iteration\n",
        "    loss.backward()\n",
        "    optimizer.step()\n",
        "    _,predicted=torch.max(outputs,1)\n",
        "    correct+=(predicted==labels).sum().item()\n",
        "    iterations+=1\n",
        "  train_loss.append(iter_loss/iterations)\n",
        "  train_accuracy.append(100*correct/len(train_dataset))\n",
        "  #testing\n",
        "  testing_loss=0.0\n",
        "  correct=0\n",
        "  iterations=0\n",
        "  model.eval()\n",
        "  for i,(inputs,labels) in enumerate (test_load):\n",
        "      if CUDA:\n",
        "        inputs=inputs.cuda()\n",
        "        labels=labels.cuda()\n",
        "      outputs=model(inputs)\n",
        "      loss=loss_fn(outputs,labels)\n",
        "      testing_loss+=loss.item()\n",
        "      \n",
        "      _,predicted=torch.max(outputs,1)\n",
        "      correct+=(predicted==labels).sum().item()\n",
        "      iterations+=1\n",
        "  test_loss.append(testing_loss/iterations)\n",
        "  test_accuracy.append(100*correct/len(test_dataset))  \n",
        "  print(\"Epoch{}/{},training loss:{:.3f},training accuracy:{:.3f},testing Loss:{:.3f},testing accuracy :{:.3f}\".format(\n",
        "  epoch+1,num_epochs,train_loss[-1],train_accuracy[-1],test_loss[-1],test_accuracy[-1]))"
      ],
      "execution_count": 39,
      "outputs": [
        {
          "output_type": "stream",
          "text": [
            "Epoch1/10,training loss:0.297,training accuracy:91.783,testing Loss:0.053,testing accuracy :98.260\n",
            "Epoch2/10,training loss:0.089,training accuracy:97.380,testing Loss:0.051,testing accuracy :98.330\n",
            "Epoch3/10,training loss:0.072,training accuracy:97.920,testing Loss:0.046,testing accuracy :98.600\n",
            "Epoch4/10,training loss:0.063,training accuracy:98.125,testing Loss:0.028,testing accuracy :99.130\n",
            "Epoch5/10,training loss:0.059,training accuracy:98.308,testing Loss:0.036,testing accuracy :98.900\n",
            "Epoch6/10,training loss:0.055,training accuracy:98.432,testing Loss:0.034,testing accuracy :99.060\n",
            "Epoch7/10,training loss:0.056,training accuracy:98.390,testing Loss:0.043,testing accuracy :98.670\n",
            "Epoch8/10,training loss:0.050,training accuracy:98.585,testing Loss:0.031,testing accuracy :99.110\n",
            "Epoch9/10,training loss:0.050,training accuracy:98.538,testing Loss:0.056,testing accuracy :98.580\n",
            "Epoch10/10,training loss:0.051,training accuracy:98.563,testing Loss:0.038,testing accuracy :99.020\n"
          ],
          "name": "stdout"
        }
      ]
    },
    {
      "cell_type": "code",
      "metadata": {
        "id": "382FL17yQJ_n",
        "colab_type": "code",
        "colab": {
          "base_uri": "https://localhost:8080/",
          "height": 595
        },
        "outputId": "340ea144-c428-4470-9e9e-c121c8e23735"
      },
      "source": [
        "f=plt.figure(figsize=(10,10))\n",
        "plt.plot(train_loss,label=\"Train loss\")\n",
        "plt.plot(test_loss,label=\"test loss\")\n",
        "plt.legend()\n",
        "plt.show()"
      ],
      "execution_count": 40,
      "outputs": [
        {
          "output_type": "display_data",
          "data": {
            "image/png": "[encoded data removed]",
            "text/plain": [
              "<Figure size 720x720 with 1 Axes>"
            ]
          },
          "metadata": {
            "tags": []
          }
        }
      ]
    },
    {
      "cell_type": "code",
      "metadata": {
        "id": "On1iKKT2RKJa",
        "colab_type": "code",
        "colab": {
          "base_uri": "https://localhost:8080/",
          "height": 595
        },
        "outputId": "897fd83a-4294-4f9d-8470-40ec398ebc8f"
      },
      "source": [
        "f=plt.figure(figsize=(10,10))\n",
        "plt.plot(train_accuracy,label=\"Train accuracy\")\n",
        "plt.plot(test_accuracy,label=\"test accuracy\")\n",
        "plt.legend()\n",
        "plt.show()"
      ],
      "execution_count": 41,
      "outputs": [
        {
          "output_type": "display_data",
          "data": {
            "image/png": "[encoded data removed]",
            "text/plain": [
              "<Figure size 720x720 with 1 Axes>"
            ]
          },
          "metadata": {
            "tags": []
          }
        }
      ]
    },
    {
      "cell_type": "code",
      "metadata": {
        "id": "qXgVdnChMwzX",
        "colab_type": "code",
        "colab": {}
      },
      "source": [
        "  "
      ],
      "execution_count": 0,
      "outputs": []
    },
    {
      "cell_type": "code",
      "metadata": {
        "id": "2K5k3oA6PtLR",
        "colab_type": "code",
        "colab": {}
      },
      "source": [
        ""
      ],
      "execution_count": 0,
      "outputs": []
    }
  ]
}